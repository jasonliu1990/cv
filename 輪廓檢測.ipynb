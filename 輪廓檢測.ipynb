{
 "cells": [
  {
   "cell_type": "code",
   "execution_count": 1,
   "metadata": {},
   "outputs": [],
   "source": [
    "import cv2\n",
    "import numpy as np"
   ]
  },
  {
   "cell_type": "code",
   "execution_count": 2,
   "metadata": {},
   "outputs": [],
   "source": [
    "def cv_show(img, name='image'):\n",
    "    cv2.imshow(name, img)\n",
    "    cv2.waitKey(0)\n",
    "    cv2.destroyAllWindows()\n"
   ]
  },
  {
   "cell_type": "code",
   "execution_count": 3,
   "metadata": {},
   "outputs": [],
   "source": [
    "# 拿編號 99這張照片來測試\n",
    "path = r'C:\\Users\\jason\\Desktop\\python\\01_project\\09_esun_2021\\test'\n",
    "img = cv2.imread(f'{path}\\99.jpg')\n",
    "cv_show(img)"
   ]
  },
  {
   "cell_type": "code",
   "execution_count": 342,
   "metadata": {},
   "outputs": [],
   "source": [
    "cv_show(img)"
   ]
  },
  {
   "cell_type": "code",
   "execution_count": 392,
   "metadata": {},
   "outputs": [],
   "source": [
    "\n",
    "out_w = 128\n",
    "out_h = 128\n",
    "top_size = int((128 - img.shape[0]) / 2)\n",
    "bottom_size = int((128 - img.shape[0]) / 2)\n",
    "dif_1 = 128 - (top_size + bottom_size + img.shape[0])\n",
    "top_size += dif_1\n",
    "left_size = int((128 - img.shape[1]) / 2)\n",
    "right_size = int((128 - img.shape[1]) / 2)\n",
    "dif_2 = 128 - (left_size + right_size + img.shape[1])\n",
    "left_size += dif_2    \n",
    "padding_v = tuple(img[-1, -1, :])\n",
    "if img.shape[1] <= 128:\n",
    "    constant = cv2.copyMakeBorder(img, \n",
    "                              top_size, bottom_size, left_size, right_size, \n",
    "                              borderType=cv2.BORDER_CONSTANT, \n",
    "                              value=(int(padding_v[0]), int(padding_v[1]), int(padding_v[2])))\n",
    "else:\n",
    "    constant = cv2.copyMakeBorder(img, \n",
    "                      top_size, bottom_size, 0, 0, \n",
    "                      borderType=cv2.BORDER_CONSTANT, \n",
    "                      value=(int(padding_v[0]), int(padding_v[1]), int(padding_v[2])))\n",
    "    constant = cv2.resize(constant, (128, 128))\n",
    "        \n"
   ]
  },
  {
   "cell_type": "code",
   "execution_count": 393,
   "metadata": {},
   "outputs": [],
   "source": [
    "# 灰階 二值化\n",
    "gray = cv2.cvtColor(constant, cv2.COLOR_BGR2GRAY)\n",
    "ret, thresh = cv2.threshold(gray, 100, 255, cv2.THRESH_OTSU)\n",
    "# 黑白轉換\n",
    "thresh = 255 - thresh\n",
    "cv_show(thresh)"
   ]
  },
  {
   "cell_type": "code",
   "execution_count": 394,
   "metadata": {},
   "outputs": [],
   "source": [
    "# 閉操作\n",
    "kernel = cv2.getStructuringElement(cv2.MORPH_RECT, (9, 9))\n",
    "closed = cv2.morphologyEx(thresh, cv2.MORPH_CLOSE, kernel)\n",
    "cv_show(closed)\n",
    "# 腐蝕 & 膨脹\n",
    "closed = cv2.erode(closed, None, iterations=1)\n",
    "closed = cv2.dilate(closed, None, iterations=1)\n",
    "cv_show(closed)"
   ]
  },
  {
   "cell_type": "code",
   "execution_count": 395,
   "metadata": {},
   "outputs": [
    {
     "name": "stdout",
     "output_type": "stream",
     "text": [
      "2\n"
     ]
    }
   ],
   "source": [
    "# 輪廓檢測\n",
    "contours, hierarchy = cv2.findContours(closed, cv2.RETR_TREE, cv2.CHAIN_APPROX_NONE)\n",
    "print(len(contours))"
   ]
  },
  {
   "cell_type": "code",
   "execution_count": 396,
   "metadata": {},
   "outputs": [],
   "source": [
    "draw_img = constant.copy()\n",
    "res = cv2.drawContours(draw_img, contours, -1, (0, 0, 255), 2) # 繪製圖像, 輪廓, 輪廓索引, 顏色模式(B, G, R), 線條厚度\n",
    "cv_show(res)"
   ]
  },
  {
   "cell_type": "code",
   "execution_count": 397,
   "metadata": {},
   "outputs": [],
   "source": [
    "draw_img = constant.copy()\n",
    "for c in contours:\n",
    "    rect = cv2.minAreaRect(c)\n",
    "    box = np.int0(cv2.boxPoints(rect))\n",
    "    res = cv2.drawContours(draw_img, [box], -1, (0, 255, 0), 3)\n",
    "cv_show(res)"
   ]
  },
  {
   "cell_type": "code",
   "execution_count": 398,
   "metadata": {},
   "outputs": [],
   "source": [
    "# 取出最大的\n",
    "c = sorted(contours, key=cv2.contourArea, reverse=True)[0]\n",
    "rect = cv2.minAreaRect(c)\n",
    "box = np.int0(cv2.boxPoints(rect))"
   ]
  },
  {
   "cell_type": "code",
   "execution_count": 399,
   "metadata": {},
   "outputs": [
    {
     "data": {
      "text/plain": [
       "1466.0"
      ]
     },
     "execution_count": 399,
     "metadata": {},
     "output_type": "execute_result"
    }
   ],
   "source": [
    "cv2.contourArea(c)"
   ]
  },
  {
   "cell_type": "code",
   "execution_count": 400,
   "metadata": {},
   "outputs": [],
   "source": [
    "# 裁切\n",
    "Xs = [i[0] for i in box]\n",
    "Ys = [i[1] for i in box]\n",
    "x1 = min(Xs)\n",
    "x2 = max(Xs)\n",
    "y1 = min(Ys)\n",
    "y2 = max(Ys)\n",
    "hight = y2 - y1\n",
    "width = x2 - x1\n",
    "cropImg = constant[y1: y1+hight, x1: x1+width]"
   ]
  },
  {
   "cell_type": "code",
   "execution_count": 401,
   "metadata": {},
   "outputs": [],
   "source": [
    "cv_show(cropImg)"
   ]
  },
  {
   "cell_type": "markdown",
   "metadata": {},
   "source": [
    "### function"
   ]
  },
  {
   "cell_type": "code",
   "execution_count": 336,
   "metadata": {},
   "outputs": [],
   "source": [
    "def preprocessing_img(img):\n",
    "    # 先padding再裁切\n",
    "    \n",
    "    out_w = 128\n",
    "    out_h = 128\n",
    "    top_size = int((128 - img.shape[0]) / 2)\n",
    "    bottom_size = int((128 - img.shape[0]) / 2)\n",
    "    dif_1 = 128 - (top_size + bottom_size + img.shape[0])\n",
    "    top_size += dif_1\n",
    "    left_size = int((128 - img.shape[1]) / 2)\n",
    "    right_size = int((128 - img.shape[1]) / 2)\n",
    "    dif_2 = 128 - (left_size + right_size + img.shape[1])\n",
    "    left_size += dif_2    \n",
    "    padding_v = tuple(img[-1, -1, :])\n",
    "    if img.shape[1] <= 128:\n",
    "        padding = cv2.copyMakeBorder(img, \n",
    "                                  top_size, bottom_size, left_size, right_size, \n",
    "                                  borderType=cv2.BORDER_CONSTANT, \n",
    "                                  value=(int(padding_v[0]), int(padding_v[1]), int(padding_v[2])))\n",
    "    else:\n",
    "        padding = cv2.copyMakeBorder(img, \n",
    "                          top_size, bottom_size, 0, 0, \n",
    "                          borderType=cv2.BORDER_CONSTANT, \n",
    "                          value=(int(padding_v[0]), int(padding_v[1]), int(padding_v[2])))\n",
    "        padding = cv2.resize(constant, (128, 128))\n",
    "\n",
    "\n",
    "    # 灰階 二值化\n",
    "    gray = cv2.cvtColor(padding, cv2.COLOR_BGR2GRAY)\n",
    "    ret, thresh = cv2.threshold(gray, 100, 255, cv2.THRESH_OTSU)\n",
    "    # 黑白轉換\n",
    "    thresh = 255 - thresh\n",
    "    # 閉操作\n",
    "    kernel = cv2.getStructuringElement(cv2.MORPH_RECT, (9, 9))\n",
    "    closed = cv2.morphologyEx(thresh, cv2.MORPH_CLOSE, kernel)\n",
    "    # 腐蝕 & 膨脹\n",
    "    closed = cv2.erode(closed, None, iterations=1)\n",
    "    closed = cv2.dilate(closed, None, iterations=1)\n",
    "    # 輪廓檢測\n",
    "    contours, hierarchy = cv2.findContours(closed, cv2.RETR_TREE, cv2.CHAIN_APPROX_NONE)\n",
    "    if len(contours) == 0:\n",
    "        gray = cv2.cvtColor(img, cv2.COLOR_BGR2GRAY)\n",
    "        ret, thresh = cv2.threshold(gray, 220, 255, cv2.THRESH_BINARY)\n",
    "        thresh = 255 - thresh\n",
    "\n",
    "    else:    \n",
    "        # 取出最大的\n",
    "        c = sorted(contours, key=cv2.contourArea, reverse=True)[0]\n",
    "        if cv2.contourArea(c) > 1000:\n",
    "            # 閉操作\n",
    "            kernel = cv2.getStructuringElement(cv2.MORPH_RECT, (5, 5))\n",
    "            closed = cv2.morphologyEx(thresh, cv2.MORPH_CLOSE, kernel)\n",
    "            # 腐蝕 & 膨脹\n",
    "            closed = cv2.erode(closed, None, iterations=1)\n",
    "            closed = cv2.dilate(closed, None, iterations=1)\n",
    "            # 輪廓檢測\n",
    "            contours, hierarchy = cv2.findContours(closed, cv2.RETR_TREE, cv2.CHAIN_APPROX_NONE)\n",
    "            c = sorted(contours, key=cv2.contourArea, reverse=True)[0]\n",
    "            \n",
    "        rect = cv2.minAreaRect(c)\n",
    "        box = np.int0(cv2.boxPoints(rect))\n",
    "        # 裁切\n",
    "        Xs = [i[0] for i in box]\n",
    "        Ys = [i[1] for i in box]\n",
    "        x1 = min(Xs)\n",
    "        x2 = max(Xs)\n",
    "        y1 = min(Ys)\n",
    "        y2 = max(Ys)\n",
    "        hight = y2 - y1\n",
    "        width = x2 - x1\n",
    "        padding = padding[y1: y1+hight, x1: x1+width]\n",
    "        thresh = thresh[y1: y1+hight, x1: x1+width]\n",
    "    # reshape\n",
    "    img2 = cv2.resize(thresh, (64, 64))\n",
    "    img2 = cv2.cvtColor(img2, cv2.COLOR_GRAY2BGR)\n",
    "     \n",
    "    return padding, img2"
   ]
  },
  {
   "cell_type": "code",
   "execution_count": 306,
   "metadata": {},
   "outputs": [
    {
     "ename": "SyntaxError",
     "evalue": "invalid syntax (<ipython-input-306-e58bf9ec193c>, line 1)",
     "output_type": "error",
     "traceback": [
      "\u001b[1;36m  File \u001b[1;32m\"<ipython-input-306-e58bf9ec193c>\"\u001b[1;36m, line \u001b[1;32m1\u001b[0m\n\u001b[1;33m    168 39384.jpg\u001b[0m\n\u001b[1;37m              ^\u001b[0m\n\u001b[1;31mSyntaxError\u001b[0m\u001b[1;31m:\u001b[0m invalid syntax\n"
     ]
    }
   ],
   "source": [
    "168 39384.jpg\n",
    "246 25877.jpg\n",
    "563 5620.jpg\n",
    "594 1925.jpg\n",
    "595 58299.jpg"
   ]
  },
  {
   "cell_type": "code",
   "execution_count": 390,
   "metadata": {},
   "outputs": [],
   "source": [
    "path = r'C:\\Users\\jason\\Desktop\\python\\01_project\\09_esun_2021\\data-clean'\n",
    "fold = 741    \n",
    "idx = 10297\n",
    "img = cv2.imread(f'{path}/{fold}/{idx}.jpg')\n",
    "cv_show(img)"
   ]
  },
  {
   "cell_type": "code",
   "execution_count": 391,
   "metadata": {},
   "outputs": [
    {
     "ename": "error",
     "evalue": "OpenCV(4.4.0) C:\\Users\\appveyor\\AppData\\Local\\Temp\\1\\pip-req-build-q0nmoxxv\\opencv\\modules\\imgproc\\src\\resize.cpp:3929: error: (-215:Assertion failed) !ssize.empty() in function 'cv::resize'\n",
     "output_type": "error",
     "traceback": [
      "\u001b[1;31m---------------------------------------------------------------------------\u001b[0m",
      "\u001b[1;31merror\u001b[0m                                     Traceback (most recent call last)",
      "\u001b[1;32m<ipython-input-391-2063841983db>\u001b[0m in \u001b[0;36m<module>\u001b[1;34m\u001b[0m\n\u001b[1;32m----> 1\u001b[1;33m \u001b[0ma\u001b[0m\u001b[1;33m,\u001b[0m \u001b[0mb\u001b[0m \u001b[1;33m=\u001b[0m \u001b[0mpreprocessing_img\u001b[0m\u001b[1;33m(\u001b[0m\u001b[0mimg\u001b[0m\u001b[1;33m)\u001b[0m\u001b[1;33m\u001b[0m\u001b[1;33m\u001b[0m\u001b[0m\n\u001b[0m\u001b[0;32m      2\u001b[0m \u001b[0mcv_show\u001b[0m\u001b[1;33m(\u001b[0m\u001b[0ma\u001b[0m\u001b[1;33m)\u001b[0m\u001b[1;33m\u001b[0m\u001b[1;33m\u001b[0m\u001b[0m\n\u001b[0;32m      3\u001b[0m \u001b[0mcv_show\u001b[0m\u001b[1;33m(\u001b[0m\u001b[0mb\u001b[0m\u001b[1;33m)\u001b[0m\u001b[1;33m\u001b[0m\u001b[1;33m\u001b[0m\u001b[0m\n",
      "\u001b[1;32m<ipython-input-336-6f9d0d13b1b2>\u001b[0m in \u001b[0;36mpreprocessing_img\u001b[1;34m(img)\u001b[0m\n\u001b[0;32m     72\u001b[0m         \u001b[0mthresh\u001b[0m \u001b[1;33m=\u001b[0m \u001b[0mthresh\u001b[0m\u001b[1;33m[\u001b[0m\u001b[0my1\u001b[0m\u001b[1;33m:\u001b[0m \u001b[0my1\u001b[0m\u001b[1;33m+\u001b[0m\u001b[0mhight\u001b[0m\u001b[1;33m,\u001b[0m \u001b[0mx1\u001b[0m\u001b[1;33m:\u001b[0m \u001b[0mx1\u001b[0m\u001b[1;33m+\u001b[0m\u001b[0mwidth\u001b[0m\u001b[1;33m]\u001b[0m\u001b[1;33m\u001b[0m\u001b[1;33m\u001b[0m\u001b[0m\n\u001b[0;32m     73\u001b[0m     \u001b[1;31m# reshape\u001b[0m\u001b[1;33m\u001b[0m\u001b[1;33m\u001b[0m\u001b[1;33m\u001b[0m\u001b[0m\n\u001b[1;32m---> 74\u001b[1;33m     \u001b[0mimg2\u001b[0m \u001b[1;33m=\u001b[0m \u001b[0mcv2\u001b[0m\u001b[1;33m.\u001b[0m\u001b[0mresize\u001b[0m\u001b[1;33m(\u001b[0m\u001b[0mthresh\u001b[0m\u001b[1;33m,\u001b[0m \u001b[1;33m(\u001b[0m\u001b[1;36m64\u001b[0m\u001b[1;33m,\u001b[0m \u001b[1;36m64\u001b[0m\u001b[1;33m)\u001b[0m\u001b[1;33m)\u001b[0m\u001b[1;33m\u001b[0m\u001b[1;33m\u001b[0m\u001b[0m\n\u001b[0m\u001b[0;32m     75\u001b[0m     \u001b[0mimg2\u001b[0m \u001b[1;33m=\u001b[0m \u001b[0mcv2\u001b[0m\u001b[1;33m.\u001b[0m\u001b[0mcvtColor\u001b[0m\u001b[1;33m(\u001b[0m\u001b[0mimg2\u001b[0m\u001b[1;33m,\u001b[0m \u001b[0mcv2\u001b[0m\u001b[1;33m.\u001b[0m\u001b[0mCOLOR_GRAY2BGR\u001b[0m\u001b[1;33m)\u001b[0m\u001b[1;33m\u001b[0m\u001b[1;33m\u001b[0m\u001b[0m\n\u001b[0;32m     76\u001b[0m \u001b[1;33m\u001b[0m\u001b[0m\n",
      "\u001b[1;31merror\u001b[0m: OpenCV(4.4.0) C:\\Users\\appveyor\\AppData\\Local\\Temp\\1\\pip-req-build-q0nmoxxv\\opencv\\modules\\imgproc\\src\\resize.cpp:3929: error: (-215:Assertion failed) !ssize.empty() in function 'cv::resize'\n"
     ]
    }
   ],
   "source": [
    "a, b = preprocessing_img(img)\n",
    "cv_show(a)\n",
    "cv_show(b)"
   ]
  },
  {
   "cell_type": "code",
   "execution_count": 190,
   "metadata": {},
   "outputs": [
    {
     "data": {
      "text/plain": [
       "(64, 64, 3)"
      ]
     },
     "execution_count": 190,
     "metadata": {},
     "output_type": "execute_result"
    }
   ],
   "source": [
    "img2.shape"
   ]
  }
 ],
 "metadata": {
  "kernelspec": {
   "display_name": "cv",
   "language": "python",
   "name": "cv"
  },
  "language_info": {
   "codemirror_mode": {
    "name": "ipython",
    "version": 3
   },
   "file_extension": ".py",
   "mimetype": "text/x-python",
   "name": "python",
   "nbconvert_exporter": "python",
   "pygments_lexer": "ipython3",
   "version": "3.7.7"
  }
 },
 "nbformat": 4,
 "nbformat_minor": 4
}
