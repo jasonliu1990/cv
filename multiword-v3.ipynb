{
 "cells": [
  {
   "cell_type": "code",
   "execution_count": 1,
   "metadata": {},
   "outputs": [],
   "source": [
    "import os\n",
    "import cv2\n",
    "import pandas as pd\n",
    "import numpy as np\n",
    "import tensorflow as tf\n",
    "from tensorflow import keras\n",
    "from tensorflow.keras.models import Model\n",
    "from tensorflow.keras.layers import (Flatten, Dense, Input, \n",
    "                                     Dropout, BatchNormalization,\n",
    "                                     Conv2D, MaxPooling2D, \n",
    "                                     GlobalMaxPooling2D, GlobalAveragePooling2D)\n",
    "\n",
    "from tensorflow.keras import backend as K\n",
    "from sklearn.model_selection import train_test_split\n",
    "import matplotlib.pyplot as plt\n",
    "plt.rcParams['font.sans-serif'] = ['Microsoft JhengHei'] \n",
    "plt.rcParams['axes.unicode_minus'] = False"
   ]
  },
  {
   "cell_type": "code",
   "execution_count": 2,
   "metadata": {},
   "outputs": [],
   "source": [
    "model_path = '../../weight/Xception_v1.h5'\n",
    "# label 字典\n",
    "label_df = pd.read_csv('dict_df.csv')"
   ]
  },
  {
   "cell_type": "code",
   "execution_count": 3,
   "metadata": {},
   "outputs": [],
   "source": [
    "input_tensor = Input(shape=(229, 229, 3))\n",
    "model = keras.applications.Xception(include_top=False, \n",
    "                                    weights='imagenet',\n",
    "                                    input_tensor=input_tensor,\n",
    "                                    pooling=None,\n",
    "                                    classes=800)\n",
    "x = model.output\n",
    "x = Flatten()(x)\n",
    "x = Dense(1024, activation='relu')(x)\n",
    "x = BatchNormalization()(x)\n",
    "predictions = Dense(800, activation='softmax')(x)\n",
    "model = Model(inputs=model.input, outputs=predictions)\n",
    "# load weights\n",
    "model.load_weights(model_path)"
   ]
  },
  {
   "cell_type": "code",
   "execution_count": 4,
   "metadata": {},
   "outputs": [],
   "source": [
    "def cv_show(img, name='image'):\n",
    "    cv2.imshow(name, img)\n",
    "    cv2.waitKey(0)\n",
    "    cv2.destroyAllWindows()\n",
    "\n",
    "def preproc_img(img):\n",
    "    \n",
    "    #灰階 二質化\n",
    "    gray = cv2.cvtColor(img, cv2.COLOR_BGR2GRAY)\n",
    "    ret, binary = cv2.threshold(gray, 0, 255, cv2.THRESH_BINARY+cv2.THRESH_OTSU)\n",
    "    # 消除水平 & 垂直直線\n",
    "    inv = 255 - binary\n",
    "    horizontal_img = inv\n",
    "    vertical_img = inv\n",
    "   \n",
    "    kernel = cv2.getStructuringElement(cv2.MORPH_RECT, (100,1))\n",
    "    horizontal_img = cv2.erode(horizontal_img, kernel, iterations=1)\n",
    "    horizontal_img = cv2.dilate(horizontal_img, kernel, iterations=1)\n",
    "\n",
    "    kernel = cv2.getStructuringElement(cv2.MORPH_RECT, (1,100))\n",
    "    vertical_img = cv2.erode(vertical_img, kernel, iterations=1)\n",
    "    vertical_img = cv2.dilate(vertical_img, kernel, iterations=1)\n",
    "\n",
    "    mask_img = (horizontal_img + vertical_img)\n",
    "    no_border = cv2.bitwise_or(binary, mask_img)\n",
    "    # 消除 w, h完全空白的區域\n",
    "    del_list_1 = []\n",
    "    del_list_2 = []\n",
    "\n",
    "    for i in range(no_border.shape[1]):\n",
    "        if np.all(no_border[:, i] > 250):\n",
    "            del_list_1.append(i)        \n",
    "\n",
    "    for j in range(no_border.shape[0]):\n",
    "        if np.all(no_border[j, :] > 250):\n",
    "            del_list_2.append(j)\n",
    "\n",
    "    no_space = np.delete(no_border, del_list_1, axis=1)   \n",
    "    no_space = np.delete(no_space, del_list_2, axis=0)  \n",
    "    # resize後輸出\n",
    "    result = cv2.resize(no_space, (229, 229))\n",
    "\n",
    "    return result\n"
   ]
  },
  {
   "cell_type": "code",
   "execution_count": 5,
   "metadata": {},
   "outputs": [],
   "source": [
    "def pred_plt(img, label_df):    \n",
    "    \"\"\" 切分圖片並預測, 取最大值\n",
    "        @img_pre: 前處理後的圖\n",
    "        @ label_df: label對照字典\n",
    "    \"\"\"\n",
    "    # 複製五張圖片, 並做遮罩\n",
    "    # 左1/3, 左2/3, 原圖, 右2/3, 右1/3\n",
    "    cut = 3    \n",
    "    point = 229 // 3\n",
    "    cnt = cut * 2 - 1\n",
    "    result_1 = img.copy()\n",
    "    result_2 = img.copy()\n",
    "    result_3 = img.copy()\n",
    "    result_4 = img.copy()\n",
    "    result_5 = img.copy()\n",
    "\n",
    "    result_1[:, point:] = 255\n",
    "    result_2[:, point*2:] = 255\n",
    "    result_4[:, :point] = 255\n",
    "    result_5[:, :point*2] = 255\n",
    "    \n",
    "    # 分別進行預測並記錄prob & label\n",
    "    pred_max_prob_list = []\n",
    "    pred_word_list = []\n",
    "    img_list = []\n",
    "    for i in range(1, cnt+1):\n",
    "        img = cv2.cvtColor(eval(f'result_{i}'), cv2.COLOR_GRAY2BGR)        \n",
    "        img = img.reshape(-1, 229, 229, 3)\n",
    "        img_list.append(img[0])\n",
    "        pred = model.predict(img)\n",
    "        pred_max = np.argmax(pred)\n",
    "        pred_max_prob = pred[:, np.argmax(pred)][0]\n",
    "        pred_word = label_df[label_df['label'] == pred_max]['word'].values[0]\n",
    "    \n",
    "        pred_max_prob_list.append(pred_max_prob)\n",
    "        pred_word_list.append(pred_word)\n",
    "    # 取最大值\n",
    "    max_idx = pred_max_prob_list.index(max(pred_max_prob_list))\n",
    "    max_word = pred_word_list[max_idx]\n",
    "    max_prob = pred_max_prob_list[max_idx]\n",
    "    print(f'predict label: {max_word}')\n",
    "    print(f'prob: {max_prob}')\n",
    "    print('\\n')\n",
    "    for w, p in zip(pred_word_list, pred_max_prob_list):\n",
    "        print(f'{w}: {p}')\n",
    "    \n",
    "    res = np.vstack((img_list[0], img_list[1], img_list[2], img_list[3], img_list[4]))\n",
    "    plt.imshow(res)\n",
    "    return res"
   ]
  },
  {
   "cell_type": "code",
   "execution_count": 6,
   "metadata": {},
   "outputs": [],
   "source": [
    "img_folder = r'C:\\Users\\jason\\Desktop\\python\\01_project\\09_esun_2021\\multiword'"
   ]
  },
  {
   "cell_type": "code",
   "execution_count": 7,
   "metadata": {},
   "outputs": [],
   "source": [
    "f_list = os.listdir(img_folder)\n",
    "img_list = []\n",
    "for f in f_list:\n",
    "    img= cv2.imread(f'{img_folder}/{f}')    \n",
    "    img = preproc_img(img)\n",
    "    img_list.append(img)\n",
    "\n",
    "img_ary = np.array(img_list)"
   ]
  },
  {
   "cell_type": "code",
   "execution_count": 8,
   "metadata": {},
   "outputs": [
    {
     "name": "stdout",
     "output_type": "stream",
     "text": [
      "predict label: 生\n",
      "prob: 0.9961007833480835\n",
      "\n",
      "\n",
      "凱: 0.6398907899856567\n",
      "女: 0.36158841848373413\n",
      "姚: 0.6933115720748901\n",
      "體: 0.7971341013908386\n",
      "生: 0.9961007833480835\n",
      "Wall time: 7.5 s\n"
     ]
    },
    {
     "data": {
      "image/png": "[encoded data removed]",
      "text/plain": [
       "<Figure size 432x288 with 1 Axes>"
      ]
     },
     "metadata": {
      "needs_background": "light"
     },
     "output_type": "display_data"
    }
   ],
   "source": [
    "%%time\n",
    "res = pred_plt(img_ary[22], label_df)"
   ]
  },
  {
   "cell_type": "code",
   "execution_count": 9,
   "metadata": {},
   "outputs": [
    {
     "name": "stdout",
     "output_type": "stream",
     "text": [
      "predict label: 宋\n",
      "prob: 0.9713643193244934\n",
      "\n",
      "\n",
      "律: 0.36013999581336975\n",
      "音: 0.5229774117469788\n",
      "木: 0.49302417039871216\n",
      "宋: 0.9713643193244934\n",
      "大: 0.47015953063964844\n",
      "Wall time: 471 ms\n"
     ]
    },
    {
     "data": {
      "image/png": "[encoded data removed]",
      "text/plain": [
       "<Figure size 432x288 with 1 Axes>"
      ]
     },
     "metadata": {
      "needs_background": "light"
     },
     "output_type": "display_data"
    }
   ],
   "source": [
    "%%time\n",
    "path = r'C:\\Users\\jason\\Desktop\\python\\01_project\\09_esun_2021\\data-clean\\0\\1027.jpg'\n",
    "img = cv2.imread(path)\n",
    "img = preproc_img(img)\n",
    "res = pred_plt(img, label_df)"
   ]
  }
 ],
 "metadata": {
  "kernelspec": {
   "display_name": "cv-gpu",
   "language": "python",
   "name": "cv-gpu"
  },
  "language_info": {
   "codemirror_mode": {
    "name": "ipython",
    "version": 3
   },
   "file_extension": ".py",
   "mimetype": "text/x-python",
   "name": "python",
   "nbconvert_exporter": "python",
   "pygments_lexer": "ipython3",
   "version": "3.7.10"
  }
 },
 "nbformat": 4,
 "nbformat_minor": 4
}
